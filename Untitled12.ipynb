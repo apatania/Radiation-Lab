{
 "cells": [
  {
   "cell_type": "code",
   "execution_count": 197,
   "metadata": {},
   "outputs": [],
   "source": [
    "import numpy as np\n",
    "import matplotlib.pyplot as plt\n",
    "from scipy import *\n",
    "from scipy.optimize import curve_fit"
   ]
  },
  {
   "cell_type": "code",
   "execution_count": null,
   "metadata": {},
   "outputs": [],
   "source": []
  },
  {
   "cell_type": "code",
   "execution_count": 193,
   "metadata": {},
   "outputs": [],
   "source": [
    "V1=np.array([1.28,1.00,0.88,0.84,0.84,0.80,0.76,0.72,0.64,0.60,0.52,1.28,1.00,1.44,1.52,1.20,0.88,0.66,1.04,1.12])"
   ]
  },
  {
   "cell_type": "code",
   "execution_count": 177,
   "metadata": {},
   "outputs": [
    {
     "data": {
      "text/plain": [
       "20"
      ]
     },
     "execution_count": 177,
     "metadata": {},
     "output_type": "execute_result"
    }
   ],
   "source": [
    "len(R)"
   ]
  },
  {
   "cell_type": "code",
   "execution_count": 178,
   "metadata": {},
   "outputs": [],
   "source": [
    "V2=np.array([0.52,0.80,0.96,0.96,1.00,1.12,1.32,1.36,1.40,1.44,1.60,1.16,1.40,1.04,1.00,1.40,1.44,1.64,1.44,1.36])"
   ]
  },
  {
   "cell_type": "code",
   "execution_count": 179,
   "metadata": {},
   "outputs": [
    {
     "data": {
      "text/plain": [
       "20"
      ]
     },
     "execution_count": 179,
     "metadata": {},
     "output_type": "execute_result"
    }
   ],
   "source": [
    "len(V1)"
   ]
  },
  {
   "cell_type": "code",
   "execution_count": 180,
   "metadata": {},
   "outputs": [],
   "source": [
    "R=np.array([1398,1898,2497,2698,2797,3000,3100,3190,3490,3690,3990,699,998,399,299,499,599,699,299,199])"
   ]
  },
  {
   "cell_type": "code",
   "execution_count": 181,
   "metadata": {},
   "outputs": [
    {
     "data": {
      "text/plain": [
       "20"
      ]
     },
     "execution_count": 181,
     "metadata": {},
     "output_type": "execute_result"
    }
   ],
   "source": [
    "len(V2)"
   ]
  },
  {
   "cell_type": "code",
   "execution_count": null,
   "metadata": {},
   "outputs": [],
   "source": []
  },
  {
   "cell_type": "code",
   "execution_count": null,
   "metadata": {},
   "outputs": [],
   "source": []
  },
  {
   "cell_type": "code",
   "execution_count": 182,
   "metadata": {},
   "outputs": [],
   "source": [
    "def func(R,V1,V2):\n",
    "    return R*V1/V2\n",
    "    "
   ]
  },
  {
   "cell_type": "code",
   "execution_count": 183,
   "metadata": {},
   "outputs": [
    {
     "name": "stdout",
     "output_type": "stream",
     "text": [
      "[3441.23076923 2372.5        2288.91666667 2360.75       2349.48\n",
      " 2142.85714286 1784.84848485 1688.82352941 1595.42857143 1537.5\n",
      " 1296.75        771.31034483  712.85714286  552.46153846  454.48\n",
      "  427.71428571  366.05555556  281.30487805  215.94444444  163.88235294]\n"
     ]
    }
   ],
   "source": [
    "print(func(R,V1,V2))"
   ]
  },
  {
   "cell_type": "code",
   "execution_count": 244,
   "metadata": {},
   "outputs": [],
   "source": [
    "t=np.array([3600,400,40,20,24,24,20,14,19,15,16,11.2,9.6,7.6,7.2,6.3,5.3,4.5,3.1,2.6])\n",
    "V1=np.array([1.28,1.00,0.88,0.84,0.84,0.80,0.76,0.72,0.64,0.60,0.52,1.28,1.00,1.44,1.52,1.20,0.88,0.66,1.04,1.12])\n",
    "V2=np.array([0.52,0.80,0.96,0.96,1.00,1.12,1.32,1.36,1.40,1.44,1.60,1.16,1.40,1.04,1.00,1.40,1.44,1.64,1.44,1.36])\n",
    "R=np.array([1398,1898,2497,2698,2797,3000,3100,3190,3490,3690,3990,699,998,399,299,499,599,699,299,199])"
   ]
  },
  {
   "cell_type": "code",
   "execution_count": 245,
   "metadata": {},
   "outputs": [
    {
     "data": {
      "text/plain": [
       "<matplotlib.collections.PathCollection at 0x1016f3eb00>"
      ]
     },
     "execution_count": 245,
     "metadata": {},
     "output_type": "execute_result"
    },
    {
     "data": {
      "image/png": "[encoded data removed]",
      "text/plain": [
       "<Figure size 432x432 with 1 Axes>"
      ]
     },
     "metadata": {
      "needs_background": "light"
     },
     "output_type": "display_data"
    }
   ],
   "source": [
    "y1=R*(V1/V2)\n",
    "x1=2*np.pi*1/t\n",
    "f = plt.figure(figsize=(6,6))\n",
    "plt.xlabel('omega(rad/seconds)')\n",
    "plt.ylabel('Z')\n",
    "plt.scatter(x1,y1)"
   ]
  },
  {
   "cell_type": "code",
   "execution_count": 246,
   "metadata": {},
   "outputs": [
    {
     "name": "stdout",
     "output_type": "stream",
     "text": [
      "Capacitance_sqred= 6.080786148645027e-06\n",
      "Capacitance= 0.0024659250087228986\n"
     ]
    },
    {
     "data": {
      "image/png": "[encoded data removed]",
      "text/plain": [
       "<Figure size 432x288 with 1 Axes>"
      ]
     },
     "metadata": {
      "needs_background": "light"
     },
     "output_type": "display_data"
    }
   ],
   "source": [
    "d=R*V1/V2\n",
    "y=(1/d)**2\n",
    "b=1/(2188)**2\n",
    "omega=2*np.pi*1/t\n",
    "x=omega**2\n",
    "def func(a,x,b):\n",
    "    return a*x+b\n",
    "\n",
    "m,b = polyfit(x, y, 1) \n",
    "\n",
    "plt.plot(x, y, 'yo', x, m*x+b, '--k')\n",
    "capacitance=np.sqrt(m)\n",
    "plt.xlabel('omega_squared')\n",
    "plt.ylabel('1/Z^2')\n",
    "print('Capacitance_sqred=',m)\n",
    "plt.figsize=(8,8)\n",
    "print('Capacitance=',capacitance)"
   ]
  },
  {
   "cell_type": "code",
   "execution_count": 247,
   "metadata": {},
   "outputs": [],
   "source": [
    "V1=np.array([0.280,0.160,0.104,0.096,0.040,0.040,0.068,0.020,0.1,0.060,0.140,0.120,0.120,0.120,0.140,0.1,0.1,0.1,0.080])\n",
    "V2=np.array([0.400,0.420,0.456,0.464,0.416,0.456,0.444,0.320,0.300,0.320,0.660,0.680,0.720,0.660,0.740,0.680,0.660,0.6,0.880])\n",
    "R=np.array([50,60,70,80,90,100,13,10,2,3,2,4,5,3,2,4,3,2,1])\n",
    "t=np.array([0.006,0.0037,0.003,0.0012,0.00044,0.00028,0.0002,0.00011,0.000056,0.000036,0.000016,0.000012,0.000008,0.000005,0.0000032,0.0000012,0.0000006,0.0000006,0.0000006])\n",
    "\n"
   ]
  },
  {
   "cell_type": "code",
   "execution_count": 224,
   "metadata": {},
   "outputs": [
    {
     "data": {
      "text/plain": [
       "19"
      ]
     },
     "execution_count": 224,
     "metadata": {},
     "output_type": "execute_result"
    }
   ],
   "source": [
    "len(V1)"
   ]
  },
  {
   "cell_type": "code",
   "execution_count": 225,
   "metadata": {},
   "outputs": [
    {
     "data": {
      "text/plain": [
       "19"
      ]
     },
     "execution_count": 225,
     "metadata": {},
     "output_type": "execute_result"
    }
   ],
   "source": [
    "len(V2)"
   ]
  },
  {
   "cell_type": "code",
   "execution_count": 248,
   "metadata": {},
   "outputs": [
    {
     "data": {
      "text/plain": [
       "<matplotlib.collections.PathCollection at 0x1018200550>"
      ]
     },
     "execution_count": 248,
     "metadata": {},
     "output_type": "execute_result"
    },
    {
     "data": {
      "image/png": "[encoded data removed]",
      "text/plain": [
       "<Figure size 432x432 with 1 Axes>"
      ]
     },
     "metadata": {
      "needs_background": "light"
     },
     "output_type": "display_data"
    }
   ],
   "source": [
    "y1=R*(V1/V2)\n",
    "x1=2*np.pi*1/t\n",
    "f = plt.figure(figsize=(6,6))\n",
    "plt.xlabel('omega(rad/seconds)')\n",
    "plt.ylabel('Z')\n",
    "plt.scatter(x1,y1)"
   ]
  },
  {
   "cell_type": "code",
   "execution_count": 237,
   "metadata": {},
   "outputs": [],
   "source": [
    "V2=np.array([0.640,0.580,0.520,0.580,0.480,0.560,0.520,0.600,0.640,0.580,0.560,0.680,0.700,0.700,0.700,0.680,0.680,0.640,0.560,0.540])\n"
   ]
  },
  {
   "cell_type": "code",
   "execution_count": 236,
   "metadata": {},
   "outputs": [],
   "source": [
    "V1=np.array([0.200,0.360,0.380,0.340,0.420,0.440,0.620,0.620,0.600,0.620,0.320,0.440,0.500,0.540,0.540,0.560,0.580,0.620,0.700,0.700])\n"
   ]
  },
  {
   "cell_type": "code",
   "execution_count": 233,
   "metadata": {},
   "outputs": [],
   "source": [
    "t=np.array([1600,400,320,120,100,96,54,26,23,15.6,4,9.2,8.4,6.4,5.6,4.0,3.8,3.2,2.9,2.7])/(1.0e6)"
   ]
  },
  {
   "cell_type": "code",
   "execution_count": 235,
   "metadata": {},
   "outputs": [],
   "source": [
    "R=np.array([400,170,160,190,150,240,270,700,900,2000,20000,4000,2000,1000,700,500,400,300,200,150])"
   ]
  },
  {
   "cell_type": "code",
   "execution_count": null,
   "metadata": {},
   "outputs": [],
   "source": []
  },
  {
   "cell_type": "code",
   "execution_count": 238,
   "metadata": {},
   "outputs": [
    {
     "data": {
      "text/plain": [
       "<matplotlib.collections.PathCollection at 0x1016a8be10>"
      ]
     },
     "execution_count": 238,
     "metadata": {},
     "output_type": "execute_result"
    },
    {
     "data": {
      "image/png": "[encoded data removed]",
      "text/plain": [
       "<Figure size 432x432 with 1 Axes>"
      ]
     },
     "metadata": {
      "needs_background": "light"
     },
     "output_type": "display_data"
    }
   ],
   "source": [
    "y1=R*(V1/V2)\n",
    "x1=2*np.pi*1/t\n",
    "f = plt.figure(figsize=(6,6))\n",
    "plt.xlabel('omega(rad/seconds)')\n",
    "plt.ylabel('Z')\n",
    "plt.scatter(x1,y1)"
   ]
  },
  {
   "cell_type": "code",
   "execution_count": null,
   "metadata": {},
   "outputs": [],
   "source": []
  },
  {
   "cell_type": "code",
   "execution_count": null,
   "metadata": {},
   "outputs": [],
   "source": []
  }
 ],
 "metadata": {
  "kernelspec": {
   "display_name": "Python 3",
   "language": "python",
   "name": "python3"
  },
  "language_info": {
   "codemirror_mode": {
    "name": "ipython",
    "version": 3
   },
   "file_extension": ".py",
   "mimetype": "text/x-python",
   "name": "python",
   "nbconvert_exporter": "python",
   "pygments_lexer": "ipython3",
   "version": "3.7.0"
  }
 },
 "nbformat": 4,
 "nbformat_minor": 2
}
