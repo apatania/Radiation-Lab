{
 "cells": [
  {
   "cell_type": "code",
   "execution_count": null,
   "metadata": {},
   "outputs": [],
   "source": [
    "%matplotlib inline\n",
    "import numpy as np\n",
    "import matplotlib.pyplot as plt\n",
    "from scipy.optimize import curve_fit"
   ]
  },
  {
   "cell_type": "code",
   "execution_count": null,
   "metadata": {},
   "outputs": [],
   "source": []
  },
  {
   "cell_type": "code",
   "execution_count": 116,
   "metadata": {},
   "outputs": [
    {
     "name": "stdout",
     "output_type": "stream",
     "text": [
      "2.809468598910543 7.467192426596615 12.20961691069033 17.0423339879735 21.073585169588625 25.1779142972964 40.78366878999636\n"
     ]
    }
   ],
   "source": [
    "r1=199/((10.292)*(10.235)) +95/((10.129)*(10.191))\n",
    "r2=r1+94/((10.180)*(10.302))+200/((10.372)*(10.198))+197/((10.198)*(10.327))\n",
    "r3=r2+194/((10.183)*(10.250))+203/((10.207)*(10.266))+95/((9.942)*(10.096))\n",
    "r4=r3+114/((7.801)*(7.64))+112/((7.646)*(7.679))+59/((7.629)*(7.639))\n",
    "r5=r4+58/((7.576)*(7.654))+58/((7.407)*(7.584))+57/((7.605)*(7.682))+58/((7.42)*(7.642))\n",
    "r6=r5+59/((7.634)*(7.640))+58/((7.452)*(7.449))+59/((7.739)*(7.607))+60/((7.535)*(7.615))\n",
    "r7=r6+1503/((9.877)*(9.751))\n",
    "print(r1,r2,r3,r4,r5,r6,r7)\n"
   ]
  },
  {
   "cell_type": "code",
   "execution_count": 129,
   "metadata": {},
   "outputs": [
    {
     "name": "stdout",
     "output_type": "stream",
     "text": [
      "6.176959407204302 0.11218373367638662 0.42514385422022777\n",
      "0.01661094645690819 0.0031536891923681877 0.008848784663808073\n"
     ]
    },
    {
     "data": {
      "text/plain": [
       "<Figure size 504x504 with 0 Axes>"
      ]
     },
     "metadata": {},
     "output_type": "display_data"
    },
    {
     "data": {
      "image/png": "[encoded data removed]",
      "text/plain": [
       "<Figure size 432x432 with 1 Axes>"
      ]
     },
     "metadata": {
      "needs_background": "light"
     },
     "output_type": "display_data"
    }
   ],
   "source": [
    "\n",
    "rho_x = np.array([r1,r2,r3,r4,r5,r6,r7])\n",
    "time = np.array([203,325,497,758,977,1280,2044])\n",
    "counts=np.array([1002,1001,1002,1002,1001,1001,1001])\n",
    "\n",
    "I=counts/time\n",
    "\n",
    "sigma_I=((counts)**1/2/time)\n",
    "def func(rho_x, a, b, c):\n",
    "    return a * np.exp(-b * rho_x) + c\n",
    "\n",
    "f = plt.figure(figsize=(7,7))\n",
    "a0=4.8\n",
    "b0=0.1\n",
    "c0=0.387\n",
    "\n",
    "popt,pcov = curve_fit(func,rho_x,I,p0=[a0,b0,c0],sigma=sigma_I)\n",
    "\n",
    "params = curve_fit(func,rho_x,I,p0=[a0,b0,c0],sigma=sigma_I)\n",
    "for j in range(len(popt)):\n",
    "    da,db,dc=np.sqrt(pcov[j])\n",
    "\n",
    "\n",
    "[a, b,c] = params[0]\n",
    "f = plt.figure(figsize=(6,6))\n",
    "plt.xlabel('px')\n",
    "plt.ylabel('Counts/second')\n",
    "plt.plot(rho_x,func(rho_x,a,b,c))\n",
    "print(a,b,c)\n",
    "print(da,db,dc)\n"
   ]
  },
  {
   "cell_type": "code",
   "execution_count": 130,
   "metadata": {},
   "outputs": [
    {
     "name": "stdout",
     "output_type": "stream",
     "text": [
      "0.0031070425414517202\n",
      "0.0010356808471505734\n"
     ]
    }
   ],
   "source": [
    "def func(rho_x):\n",
    "    return 6.176959407204302 * np.exp(-0.11218373367638662 * rho_x) +0.42514385422022777\n",
    "rho_x = np.array([r1,r2,r3,r4,r5,r6,r7])\n",
    "time = np.array([203,325,497,758,977,1280,2044])\n",
    "counts=np.array([1002,1001,1002,1002,1001,1001,1001])\n",
    "\n",
    "I=counts/time\n",
    "\n",
    "sigma_I=((counts)**1/2/time)\n",
    "expected=I\n",
    "P=func(rho_x)\n",
    "chisqr = sum(((expected-P)**2)/(sigma_I)**2)\n",
    "reducedchisqr=chisqr/3\n",
    "print(chisqr)\n",
    "print(reducedchisqr)\n"
   ]
  },
  {
   "cell_type": "code",
   "execution_count": null,
   "metadata": {},
   "outputs": [],
   "source": [
    "\n"
   ]
  },
  {
   "cell_type": "code",
   "execution_count": 127,
   "metadata": {
    "scrolled": true
   },
   "outputs": [
    {
     "name": "stdout",
     "output_type": "stream",
     "text": [
      "0.005076285260897005\n",
      "0.0016920950869656684\n"
     ]
    }
   ],
   "source": [
    "def func(rho_x):\n",
    "    return 6.191201533348978 * np.exp(-0.11375936714353549 * rho_x) +0.4383841515321539\n",
    "rho_x = np.array([r1,r2,r3,r4,r5,r6,r7])\n",
    "time = np.array([203,325,497,758,977,1280,2044])\n",
    "counts=np.array([1002,1001,1002,1002,1001,1001,1001])\n",
    "\n",
    "I=counts/time\n",
    "\n",
    "sigma_I=((counts)**1/2/time)\n",
    "expected=I\n",
    "P=func(rho_x)\n",
    "chisqr = sum(((expected-P)**2)/(sigma_I)**2)\n",
    "reducedchisqr=chisqr/3\n",
    "print(chisqr)\n",
    "print(reducedchisqr)"
   ]
  },
  {
   "cell_type": "code",
   "execution_count": 125,
   "metadata": {
    "scrolled": true
   },
   "outputs": [
    {
     "name": "stdout",
     "output_type": "stream",
     "text": [
      "[4.93590268 3.08601731 1.98206679 1.32921924 1.00154582 0.79145222\n",
      " 0.49820535]\n"
     ]
    }
   ],
   "source": [
    "def func(rho_x):\n",
    "    return 6.191201533348978 * np.exp(-(0.11375936714353549 * rho_x)) +0.4383841515321539\n",
    "rho_x = np.array([r1,r2,r3,r4,r5,r6,r7])\n",
    "P=func(rho_x)\n",
    "print(func(rho_x))\n"
   ]
  },
  {
   "cell_type": "code",
   "execution_count": 101,
   "metadata": {},
   "outputs": [
    {
     "name": "stdout",
     "output_type": "stream",
     "text": [
      "[4.93596059 3.08       2.01609658 1.32189974 1.02456499 0.78203125\n",
      " 0.48972603]\n"
     ]
    }
   ],
   "source": [
    "time = np.array([203,325,497,758,977,1280,2044])\n",
    "counts=np.array([1002,1001,1002,1002,1001,1001,1001])\n",
    "\n",
    "I=counts/time\n",
    "\n",
    "print(I)"
   ]
  },
  {
   "cell_type": "code",
   "execution_count": 107,
   "metadata": {},
   "outputs": [
    {
     "name": "stdout",
     "output_type": "stream",
     "text": [
      "[2.4679803  1.54       1.00804829 0.66094987 0.5122825  0.39101562\n",
      " 0.24486301]\n"
     ]
    }
   ],
   "source": [
    "time = np.array([203,325,497,758,977,1280,2044])\n",
    "counts=np.array([1002,1001,1002,1002,1001,1001,1001])\n",
    "\n",
    "I=counts/time\n",
    "\n",
    "sigma_I=((counts)**1/2/time)\n",
    "print(sigma_I)"
   ]
  },
  {
   "cell_type": "code",
   "execution_count": null,
   "metadata": {},
   "outputs": [],
   "source": [
    "rho_x = np.array([r1,r2,r3,r4,r5,r6,r7])"
   ]
  },
  {
   "cell_type": "code",
   "execution_count": 139,
   "metadata": {},
   "outputs": [
    {
     "name": "stdout",
     "output_type": "stream",
     "text": [
      "[0.214, 0.149, 0.102, 0.0682, 0.0549]\n"
     ]
    },
    {
     "data": {
      "image/png": "[encoded data removed]",
      "text/plain": [
       "<Figure size 432x288 with 1 Axes>"
      ]
     },
     "metadata": {
      "needs_background": "light"
     },
     "output_type": "display_data"
    }
   ],
   "source": [
    "xp=[0.4086,0.5108,0.6811,1.022,2.362]\n",
    "fp=[0.214,0.149,0.102,0.0682,0.0549]\n",
    "np.interp(0.662,xp,fp)\n",
    "plt.xlabel('Energy/MeV')\n",
    "plt.ylabel('u/p')\n",
    "plt.figsize=(6,6)\n",
    "plt.plot(x,y,'o')\n",
    "plt.plot(xp,fp)\n",
    "print(y)\n"
   ]
  },
  {
   "cell_type": "code",
   "execution_count": null,
   "metadata": {},
   "outputs": [],
   "source": []
  }
 ],
 "metadata": {
  "kernelspec": {
   "display_name": "Python 3",
   "language": "python",
   "name": "python3"
  },
  "language_info": {
   "codemirror_mode": {
    "name": "ipython",
    "version": 3
   },
   "file_extension": ".py",
   "mimetype": "text/x-python",
   "name": "python",
   "nbconvert_exporter": "python",
   "pygments_lexer": "ipython3",
   "version": "3.7.0"
  }
 },
 "nbformat": 4,
 "nbformat_minor": 2
}
