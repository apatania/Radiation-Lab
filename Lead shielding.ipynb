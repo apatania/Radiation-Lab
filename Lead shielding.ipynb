{
 "cells": [
  {
   "cell_type": "code",
   "execution_count": null,
   "metadata": {},
   "outputs": [],
   "source": [
    "%matplotlib inline\n",
    "import numpy as np\n",
    "import matplotlib.pyplot as plt\n",
    "from scipy.optimize import curve_fit"
   ]
  },
  {
   "cell_type": "code",
   "execution_count": null,
   "metadata": {},
   "outputs": [],
   "source": []
  },
  {
   "cell_type": "code",
   "execution_count": 141,
   "metadata": {},
   "outputs": [
    {
     "name": "stdout",
     "output_type": "stream",
     "text": [
      "2.809468598910543 7.467192426596615 12.20961691069033 17.0423339879735 21.073585169588625 25.1779142972964 40.78366878999636\n"
     ]
    }
   ],
   "source": [
    "\n",
    "r1=199./((10.292)*(10.235)) +95./((10.129)*(10.191))\n",
    "r2=r1+94./((10.180)*(10.302))+200./((10.372)*(10.198))+197./((10.198)*(10.327))\n",
    "r3=r2+194./((10.183)*(10.250))+203./((10.207)*(10.266))+95./((9.942)*(10.096))\n",
    "r4=r3+114./((7.801)*(7.64))+112./((7.646)*(7.679))+59./((7.629)*(7.639))\n",
    "r5=r4+58./((7.576)*(7.654))+58./((7.407)*(7.584))+57./((7.605)*(7.682))+58./((7.42)*(7.642))\n",
    "r6=r5+59./((7.634)*(7.640))+58./((7.452)*(7.449))+59./((7.739)*(7.607))+60./((7.535)*(7.615))\n",
    "r7=r6+1503./((9.877)*(9.751))\n",
    "\n",
    "print(r1,r2,r3,r4,r5,r6,r7)\n"
   ]
  },
  {
   "cell_type": "code",
   "execution_count": null,
   "metadata": {},
   "outputs": [],
   "source": []
  },
  {
   "cell_type": "code",
   "execution_count": 142,
   "metadata": {},
   "outputs": [
    {
     "name": "stdout",
     "output_type": "stream",
     "text": [
      "Fitted parameters: 6.176981199028568 0.11218409156642856 0.42514455656907496\n",
      "Error in parameters: 0.09312289427869617 0.001540141218418429 0.008849607172571505\n"
     ]
    },
    {
     "data": {
      "text/plain": [
       "<Figure size 504x504 with 0 Axes>"
      ]
     },
     "metadata": {},
     "output_type": "display_data"
    },
    {
     "data": {
      "image/png": "[encoded data removed]",
      "text/plain": [
       "<Figure size 432x432 with 1 Axes>"
      ]
     },
     "metadata": {
      "needs_background": "light"
     },
     "output_type": "display_data"
    }
   ],
   "source": [
    "rho_x = np.array([r1,r2,r3,r4,r5,r6,r7])\n",
    "time = np.array([203.,325.,497.,758.,977.,1280.,2044.])\n",
    "counts=np.array([1002.,1001.,1002.,1002.,1001.,1001.,1001.])\n",
    "\n",
    "I=counts/time\n",
    "\n",
    "sigma_I = np.sqrt(counts)/time\n",
    "def func(rho_x, a, b, c):\n",
    "    return a * np.exp(-b * rho_x) + c\n",
    "\n",
    "f = plt.figure(figsize=(7,7))\n",
    "a0=4.8\n",
    "b0=0.1\n",
    "c0=0.387\n",
    "\n",
    "popt,pcov = curve_fit(func,rho_x,I,p0=[a0,b0,c0],sigma=sigma_I)\n",
    "\n",
    "da,db,dc = [np.sqrt(pcov[j, j]) for j in range(popt.size)]\n",
    "a,b,c = popt\n",
    "x = np.linspace(0,50,1000)  # I added this so your fitted curve appears continuous and smooth\n",
    "f = plt.figure(figsize=(6,6))\n",
    "plt.xlabel('px')\n",
    "plt.ylabel('Counts/second')\n",
    "plt.scatter(rho_x,I,color ='red')\n",
    "\n",
    "plt.plot(x,func(x,a,b,c))\n",
    "print('Fitted parameters:',a,b,c)\n",
    "print('Error in parameters:',da,db,dc)\n"
   ]
  },
  {
   "cell_type": "code",
   "execution_count": 130,
   "metadata": {},
   "outputs": [
    {
     "name": "stdout",
     "output_type": "stream",
     "text": [
      "0.0031070425414517202\n",
      "0.0010356808471505734\n"
     ]
    }
   ],
   "source": [
    "def func(rho_x):\n",
    "    return 6.176959407204302 * np.exp(-0.11218373367638662 * rho_x) +0.42514385422022777\n",
    "rho_x = np.array([r1,r2,r3,r4,r5,r6,r7])\n",
    "time = np.array([203,325,497,758,977,1280,2044])\n",
    "counts=np.array([1002,1001,1002,1002,1001,1001,1001])\n",
    "\n",
    "I=counts/time\n",
    "\n",
    "sigma_I=((counts)**1/2/time)\n",
    "expected=I\n",
    "P=func(rho_x)\n",
    "chisqr = sum(((expected-P)**2)/(sigma_I)**2)\n",
    "reducedchisqr=chisqr/3\n",
    "print(chisqr)\n",
    "print(reducedchisqr)\n"
   ]
  },
  {
   "cell_type": "code",
   "execution_count": null,
   "metadata": {},
   "outputs": [],
   "source": [
    "\n"
   ]
  },
  {
   "cell_type": "code",
   "execution_count": 143,
   "metadata": {
    "scrolled": true
   },
   "outputs": [
    {
     "ename": "NameError",
     "evalue": "name 'chisqprob' is not defined",
     "output_type": "error",
     "traceback": [
      "\u001b[0;31m---------------------------------------------------------------------------\u001b[0m",
      "\u001b[0;31mNameError\u001b[0m                                 Traceback (most recent call last)",
      "\u001b[0;32m<ipython-input-143-cf04b62990a9>\u001b[0m in \u001b[0;36m<module>\u001b[0;34m()\u001b[0m\n\u001b[1;32m      2\u001b[0m \u001b[0mchissqr\u001b[0m \u001b[0;34m=\u001b[0m \u001b[0;34m(\u001b[0m\u001b[0;34m(\u001b[0m\u001b[0mresids\u001b[0m \u001b[0;34m/\u001b[0m \u001b[0msigma_I\u001b[0m\u001b[0;34m)\u001b[0m \u001b[0;34m**\u001b[0m \u001b[0;36m2\u001b[0m\u001b[0;34m)\u001b[0m\u001b[0;34m.\u001b[0m\u001b[0msum\u001b[0m\u001b[0;34m(\u001b[0m\u001b[0;34m)\u001b[0m\u001b[0;34m\u001b[0m\u001b[0m\n\u001b[1;32m      3\u001b[0m \u001b[0mredchisqr\u001b[0m \u001b[0;34m=\u001b[0m \u001b[0;34m(\u001b[0m\u001b[0;34m(\u001b[0m\u001b[0mresids\u001b[0m \u001b[0;34m/\u001b[0m \u001b[0msigma_I\u001b[0m\u001b[0;34m)\u001b[0m \u001b[0;34m**\u001b[0m \u001b[0;36m2\u001b[0m\u001b[0;34m)\u001b[0m\u001b[0;34m.\u001b[0m\u001b[0msum\u001b[0m\u001b[0;34m(\u001b[0m\u001b[0;34m)\u001b[0m \u001b[0;34m/\u001b[0m \u001b[0mfloat\u001b[0m\u001b[0;34m(\u001b[0m\u001b[0mI\u001b[0m\u001b[0;34m.\u001b[0m\u001b[0msize\u001b[0m\u001b[0;34m-\u001b[0m\u001b[0;36m3\u001b[0m\u001b[0;34m)\u001b[0m\u001b[0;34m\u001b[0m\u001b[0m\n\u001b[0;32m----> 4\u001b[0;31m \u001b[0malpha\u001b[0m \u001b[0;34m=\u001b[0m \u001b[0mchisqprob\u001b[0m\u001b[0;34m(\u001b[0m\u001b[0mchissqr\u001b[0m\u001b[0;34m,\u001b[0m\u001b[0mfloat\u001b[0m\u001b[0;34m(\u001b[0m\u001b[0mI\u001b[0m\u001b[0;34m.\u001b[0m\u001b[0msize\u001b[0m\u001b[0;34m-\u001b[0m\u001b[0;36m3\u001b[0m\u001b[0;34m)\u001b[0m\u001b[0;34m)\u001b[0m\u001b[0;34m\u001b[0m\u001b[0m\n\u001b[0m\u001b[1;32m      5\u001b[0m \u001b[0;34m\u001b[0m\u001b[0m\n\u001b[1;32m      6\u001b[0m \u001b[0mprint\u001b[0m \u001b[0;34m(\u001b[0m\u001b[0;34m'reduced chi-square:'\u001b[0m\u001b[0;34m,\u001b[0m\u001b[0mredchisqr\u001b[0m\u001b[0;34m)\u001b[0m\u001b[0;34m\u001b[0m\u001b[0m\n",
      "\u001b[0;31mNameError\u001b[0m: name 'chisqprob' is not defined"
     ]
    }
   ],
   "source": [
    "resids = I - func(rho_x,a,b,c)\n",
    "chissqr = ((resids / sigma_I) ** 2).sum()\n",
    "redchisqr = ((resids / sigma_I) ** 2).sum() / float(I.size-3)\n",
    "alpha = chisqprob(chissqr,float(I.size-3))\n",
    "\n",
    "print ('reduced chi-square:',redchisqr)\n",
    "print ('confidence value',alpha)"
   ]
  },
  {
   "cell_type": "code",
   "execution_count": 144,
   "metadata": {
    "scrolled": true
   },
   "outputs": [
    {
     "data": {
      "text/plain": [
       "([<matplotlib.axis.XTick at 0x1022da9a58>],\n",
       " <a list of 1 Text xticklabel objects>)"
      ]
     },
     "execution_count": 144,
     "metadata": {},
     "output_type": "execute_result"
    },
    {
     "data": {
      "image/png": "[encoded data removed]",
      "text/plain": [
       "<Figure size 432x432 with 1 Axes>"
      ]
     },
     "metadata": {
      "needs_background": "light"
     },
     "output_type": "display_data"
    }
   ],
   "source": [
    "E = np.linspace(0.1022,1.022,100000)\n",
    "E_list = np.array([0.1022,0.1277,0.1703,0.2554,0.3405,0.4086,0.5108,0.6811,1.022])\n",
    "u_rho_list = np.array([5.3,2.97,1.45,0.558,0.300,0.214,0.149,0.102,0.0682])\n",
    "u_rho = np.interp(E,E_list,u_rho_list)\n",
    "\n",
    "u_rho = np.interp(E,E_list,u_rho_list)\n",
    "\n",
    "f1 = plt.figure(figsize=(6,6))\n",
    "plt.plot(E,u_rho)\n",
    "plt.scatter(E,u_rho,color='red')\n",
    "plt.ylim(.1072673,.107275)\n",
    "plt.xlim(.66195,.66205)\n",
    "plt.vlines(.66200,0,.1072712,linestyle='--',color='grey')\n",
    "plt.hlines(.1072712,0,.662,linestyle='--',color='grey')\n",
    "plt.text(.66197,.10727,'$\\mu/\\\\rho$ = 0.1072',fontsize=12)\n",
    "plt.title('Mass Coefficient vs Energy, table 7.1')\n",
    "plt.ylabel('$\\mu/\\\\rho (cm^2/g)$')\n",
    "plt.xlabel('Energy (Mev)')\n",
    "plt.xticks([.662])\n",
    "\n"
   ]
  },
  {
   "cell_type": "code",
   "execution_count": null,
   "metadata": {},
   "outputs": [],
   "source": []
  },
  {
   "cell_type": "code",
   "execution_count": null,
   "metadata": {},
   "outputs": [],
   "source": []
  },
  {
   "cell_type": "code",
   "execution_count": null,
   "metadata": {},
   "outputs": [],
   "source": []
  },
  {
   "cell_type": "code",
   "execution_count": null,
   "metadata": {},
   "outputs": [],
   "source": [
    "\n"
   ]
  },
  {
   "cell_type": "code",
   "execution_count": null,
   "metadata": {},
   "outputs": [],
   "source": []
  }
 ],
 "metadata": {
  "kernelspec": {
   "display_name": "Python 3",
   "language": "python",
   "name": "python3"
  },
  "language_info": {
   "codemirror_mode": {
    "name": "ipython",
    "version": 3
   },
   "file_extension": ".py",
   "mimetype": "text/x-python",
   "name": "python",
   "nbconvert_exporter": "python",
   "pygments_lexer": "ipython3",
   "version": "3.7.0"
  }
 },
 "nbformat": 4,
 "nbformat_minor": 2
}
