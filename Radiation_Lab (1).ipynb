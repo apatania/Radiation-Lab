{
 "cells": [
  {
   "cell_type": "code",
   "execution_count": 4,
   "metadata": {},
   "outputs": [],
   "source": [
    "import numpy as np\n",
    "import matplotlib.pyplot as plt\n",
    "import math\n",
    "from scipy.special import factorial"
   ]
  },
  {
   "cell_type": "code",
   "execution_count": 5,
   "metadata": {},
   "outputs": [],
   "source": [
    "a=[3,3,10,4,9,10,3,12,6,11,11,10,6,8,5,5,10,4,7,8,6,7,3,8,7,15,7,7,5,9,10,5,10,9,4,12,5,11,5,9,13,3,7,6,6,13,4,5,11,9,6,7,9,10,6,3,4,11,5,9,6,7,7,8,8,6,8,8,9,8,2,11,4,8,5,7,6,11,6,8,6,5,12,8,6,4,10,5,8,6,8,7,10,9,7,8,11,8,14,12]"
   ]
  },
  {
   "cell_type": "code",
   "execution_count": null,
   "metadata": {},
   "outputs": [],
   "source": []
  },
  {
   "cell_type": "code",
   "execution_count": 42,
   "metadata": {},
   "outputs": [
    {
     "data": {
      "text/plain": [
       "7.53"
      ]
     },
     "execution_count": 42,
     "metadata": {},
     "output_type": "execute_result"
    }
   ],
   "source": [
    "np.mean(a)"
   ]
  },
  {
   "cell_type": "code",
   "execution_count": 53,
   "metadata": {},
   "outputs": [
    {
     "data": {
      "text/plain": [
       "(array([ 1,  6,  7, 11, 14, 12, 15,  9,  9,  8,  4,  2,  2]),\n",
       " array([ 2.,  3.,  4.,  5.,  6.,  7.,  8.,  9., 10., 11., 12., 13., 14.,\n",
       "        15.]))"
      ]
     },
     "execution_count": 53,
     "metadata": {},
     "output_type": "execute_result"
    }
   ],
   "source": [
    "\n",
    "np.histogram(a,bins=13)\n"
   ]
  },
  {
   "cell_type": "code",
   "execution_count": 50,
   "metadata": {},
   "outputs": [
    {
     "name": "stdout",
     "output_type": "stream",
     "text": [
      "3.9449214147523595\n",
      "0.35862921952294174\n"
     ]
    }
   ],
   "source": [
    "expected=np.array([1,6,7,11,14,12,15,9,9,8,4,2,2])\n",
    "m = np.array([2,3,4,5,6,7,8,9,10,11,12,13,14])\n",
    "P = 100*(np.exp(-7.53)*7.53**m)/factorial(m) \n",
    "chisqr = sum(((expected-P)**2)/P)\n",
    "reducedchisqr=chisqr/11\n",
    "print(chisqr)\n",
    "print(reducedchisqr)"
   ]
  },
  {
   "cell_type": "code",
   "execution_count": 51,
   "metadata": {},
   "outputs": [
    {
     "name": "stdout",
     "output_type": "stream",
     "text": [
      "[ 1.52167711  3.81940955  7.19003847 10.82819794 13.58938842 14.61829926\n",
      " 13.75947417 11.51209339  8.66860632  5.93405506  3.72361955  2.15683502\n",
      "  1.16006912]\n"
     ]
    }
   ],
   "source": [
    "m = np.array([2,3,4,5,6,7,8,9,10,11,12,13,14])\n",
    "P = 100*(np.exp(-7.53)*7.53**m)/factorial(m) \n",
    "print(P)"
   ]
  },
  {
   "cell_type": "code",
   "execution_count": 43,
   "metadata": {},
   "outputs": [
    {
     "data": {
      "image/png": "[encoded data removed]",
      "text/plain": [
       "<Figure size 432x288 with 1 Axes>"
      ]
     },
     "metadata": {
      "needs_background": "light"
     },
     "output_type": "display_data"
    }
   ],
   "source": [
    "plt.hist(a, bins = 13) \n",
    "plt.title(\"Count rates of Cesium 137 source\") \n",
    "plt.show()"
   ]
  },
  {
   "cell_type": "code",
   "execution_count": null,
   "metadata": {},
   "outputs": [],
   "source": []
  },
  {
   "cell_type": "code",
   "execution_count": null,
   "metadata": {},
   "outputs": [],
   "source": []
  },
  {
   "cell_type": "code",
   "execution_count": null,
   "metadata": {},
   "outputs": [],
   "source": [
    "\n"
   ]
  },
  {
   "cell_type": "code",
   "execution_count": null,
   "metadata": {},
   "outputs": [],
   "source": []
  },
  {
   "cell_type": "code",
   "execution_count": null,
   "metadata": {},
   "outputs": [],
   "source": []
  },
  {
   "cell_type": "code",
   "execution_count": null,
   "metadata": {},
   "outputs": [],
   "source": []
  }
 ],
 "metadata": {
  "kernelspec": {
   "display_name": "Python 3",
   "language": "python",
   "name": "python3"
  },
  "language_info": {
   "codemirror_mode": {
    "name": "ipython",
    "version": 3
   },
   "file_extension": ".py",
   "mimetype": "text/x-python",
   "name": "python",
   "nbconvert_exporter": "python",
   "pygments_lexer": "ipython3",
   "version": "3.7.0"
  }
 },
 "nbformat": 4,
 "nbformat_minor": 2
}
