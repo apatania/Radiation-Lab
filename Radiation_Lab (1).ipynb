{
 "cells": [
  {
   "cell_type": "code",
   "execution_count": 2,
   "metadata": {},
   "outputs": [],
   "source": [
    "import numpy as np\n",
    "import matplotlib.pyplot as plt\n",
    "import math\n",
    "from scipy.special import factorial\n",
    "from scipy import stats"
   ]
  },
  {
   "cell_type": "code",
   "execution_count": 4,
   "metadata": {},
   "outputs": [],
   "source": [
    "a=[3,3,10,4,9,10,3,12,6,11,11,10,6,8,5,5,10,4,7,8,6,7,3,8,7,15,7,7,5,9,10,5,10,9,4,12,5,11,5,9,13,3,7,6,6,13,4,5,11,9,6,7,9,10,6,3,4,11,5,9,6,7,7,8,8,6,8,8,9,8,2,11,4,8,5,7,6,11,6,8,6,5,12,8,6,4,10,5,8,6,8,7,10,9,7,8,11,8,14,12]"
   ]
  },
  {
   "cell_type": "code",
   "execution_count": 6,
   "metadata": {},
   "outputs": [
    {
     "data": {
      "image/png": "[encoded data removed]",
      "text/plain": [
       "<Figure size 432x288 with 1 Axes>"
      ]
     },
     "metadata": {
      "needs_background": "light"
     },
     "output_type": "display_data"
    }
   ],
   "source": [
    "plt.hist(a, bins = 13) \n",
    "plt.title(\"Count rates of Cesium 137 source. Table 1\") \n",
    "plt.ylabel(\"Counts\")\n",
    "plt.xlabel(\"Count rates\")\n",
    "plt.show()"
   ]
  },
  {
   "cell_type": "code",
   "execution_count": 7,
   "metadata": {},
   "outputs": [
    {
     "name": "stdout",
     "output_type": "stream",
     "text": [
      "3.1465308233305045\n",
      "reduced chi-square counting statistics 0.39331635291631306\n",
      "confidence value 0.9248280141506429\n"
     ]
    }
   ],
   "source": [
    "mean = np.mean(a)\n",
    "hist = np.histogram(a,bins=13)\n",
    "N = hist[0]\n",
    "rates = hist[1] \n",
    "R = rates[0:-1]\n",
    "p = 100*np.exp(-mean)*(mean**R)/factorial(R)\n",
    "n = N[1:11]\n",
    "P = p[1:11]\n",
    "chi_sqr = sum(((n-P)**2)/P)\n",
    "chi_sqr_reduced = chi_sqr/(len(n)-2)\n",
    "alpha = stats.chi2.sf(chi_sqr,len(n)-2)\n",
    "print(chi_sqr)\n",
    "print('reduced chi-square counting statistics',chi_sqr_reduced)\n",
    "print ('confidence value',alpha)\n",
    "\n",
    "\n"
   ]
  },
  {
   "cell_type": "code",
   "execution_count": 8,
   "metadata": {},
   "outputs": [
    {
     "data": {
      "text/plain": [
       "10"
      ]
     },
     "execution_count": 8,
     "metadata": {},
     "output_type": "execute_result"
    }
   ],
   "source": [
    "len(n)"
   ]
  },
  {
   "cell_type": "code",
   "execution_count": null,
   "metadata": {},
   "outputs": [],
   "source": []
  },
  {
   "cell_type": "code",
   "execution_count": null,
   "metadata": {},
   "outputs": [],
   "source": [
    "\n",
    "\n",
    "\n"
   ]
  },
  {
   "cell_type": "code",
   "execution_count": null,
   "metadata": {},
   "outputs": [],
   "source": []
  },
  {
   "cell_type": "code",
   "execution_count": null,
   "metadata": {},
   "outputs": [],
   "source": []
  },
  {
   "cell_type": "code",
   "execution_count": null,
   "metadata": {},
   "outputs": [],
   "source": []
  },
  {
   "cell_type": "code",
   "execution_count": null,
   "metadata": {},
   "outputs": [],
   "source": []
  },
  {
   "cell_type": "code",
   "execution_count": null,
   "metadata": {},
   "outputs": [],
   "source": []
  },
  {
   "cell_type": "code",
   "execution_count": null,
   "metadata": {},
   "outputs": [],
   "source": [
    "\n"
   ]
  },
  {
   "cell_type": "code",
   "execution_count": null,
   "metadata": {},
   "outputs": [],
   "source": []
  },
  {
   "cell_type": "code",
   "execution_count": null,
   "metadata": {},
   "outputs": [],
   "source": []
  },
  {
   "cell_type": "code",
   "execution_count": null,
   "metadata": {},
   "outputs": [],
   "source": []
  }
 ],
 "metadata": {
  "kernelspec": {
   "display_name": "Python 3",
   "language": "python",
   "name": "python3"
  },
  "language_info": {
   "codemirror_mode": {
    "name": "ipython",
    "version": 3
   },
   "file_extension": ".py",
   "mimetype": "text/x-python",
   "name": "python",
   "nbconvert_exporter": "python",
   "pygments_lexer": "ipython3",
   "version": "3.7.0"
  }
 },
 "nbformat": 4,
 "nbformat_minor": 2
}
