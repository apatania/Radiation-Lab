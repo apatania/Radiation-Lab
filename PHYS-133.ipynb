{
 "cells": [
  {
   "cell_type": "code",
   "execution_count": 15,
   "metadata": {},
   "outputs": [],
   "source": [
    "import numpy as np\n",
    "import random\n",
    "import matplotlib.pyplot as plt\n",
    "from scipy import stats"
   ]
  },
  {
   "cell_type": "code",
   "execution_count": 11,
   "metadata": {},
   "outputs": [
    {
     "name": "stdout",
     "output_type": "stream",
     "text": [
      "[ 0.00085029 -0.16961985  0.2492582  -0.1296779  -0.39447418 -0.35350681\n",
      " -0.47131831  0.39666055  0.20657806 -0.15031888]\n"
     ]
    }
   ],
   "source": [
    "\n",
    "npoints=10\n",
    "rand= np.random.uniform(-0.5,0.5,npoints)\n",
    "y=rand\n",
    "print(y)\n",
    "    \n",
    "\n",
    "\n",
    "\n",
    "\n",
    "\n",
    "\n",
    "\n"
   ]
  },
  {
   "cell_type": "code",
   "execution_count": null,
   "metadata": {},
   "outputs": [],
   "source": [
    "avg=np.sum(y)/npoints\n",
    "SD = np.std(y)\n",
    "EM = SD/10\n",
    "print(avg)\n",
    "print(SD)\n",
    "print(EM)"
   ]
  },
  {
   "cell_type": "code",
   "execution_count": null,
   "metadata": {
    "scrolled": true
   },
   "outputs": [],
   "source": [
    "\n",
    "    \n",
    "    "
   ]
  },
  {
   "cell_type": "code",
   "execution_count": 39,
   "metadata": {},
   "outputs": [
    {
     "name": "stdout",
     "output_type": "stream",
     "text": [
      "0.011099999999999999\n",
      "0.09712769944768589\n"
     ]
    },
    {
     "data": {
      "text/plain": [
       "(array([ 3.,  8.,  8.,  9., 11., 23., 18.,  8.,  7.,  5.]),\n",
       " array([-2.10000000e-01, -1.68000000e-01, -1.26000000e-01, -8.40000000e-02,\n",
       "        -4.20000000e-02, -2.77555756e-17,  4.20000000e-02,  8.40000000e-02,\n",
       "         1.26000000e-01,  1.68000000e-01,  2.10000000e-01]),\n",
       " <a list of 10 Patch objects>)"
      ]
     },
     "execution_count": 39,
     "metadata": {},
     "output_type": "execute_result"
    },
    {
     "data": {
      "image/png": "[encoded data removed]",
      "text/plain": [
       "<Figure size 504x504 with 1 Axes>"
      ]
     },
     "metadata": {
      "needs_background": "light"
     },
     "output_type": "display_data"
    }
   ],
   "source": [
    "npoints=100\n",
    "c=[0.12,0.21,-0.12,-0.07,0.07,-0.02,0.00,-.02,0.00,0.19,0.02,-0.11,-0.1,0.05,-0.21,-0.09,0.12,0.03,0.04,0.09,0.07,0.09,-0.05,0.13,0.15,0.20,-0.14,0.08,0.03,-0.05,0.08,-0.03,0.02,0.08,-0.01,-0.02,0.06,0.08,0.19,0.10,0.05,0.07,-0.14,0.19,-0.06,-0.01,0.01,0.05,-0.16,0.08,-0.06,-0.12,-0.04,0.02,0.03,-0.04,0,0.02,0.0,0.08,0.02,-0.07,-0.07,0.04,0.07,-0.12,-0.15,-0.13,-0.09,-0.05,0.15,0.04,-0.02,0.12,0.04,0.16,-0.13,0.00,0.16,0.08,-0.05,-0.03,0.10,-0.04,0.00,-0.12,0.06,-0.19,0.11,0.06,0.05,-0.16,-0.19,-0.15,0.04,0.03,0.14,0.04,0.13,0.00]\n",
    "avg2=np.sum(c)/npoints\n",
    "SD2=np.std(c)\n",
    "print(avg2)\n",
    "print(SD2)\n",
    "f = plt.figure(figsize=(7,7))\n",
    "plt.hist(c)"
   ]
  },
  {
   "cell_type": "code",
   "execution_count": 29,
   "metadata": {},
   "outputs": [],
   "source": [
    "npoints1=1\n",
    "npoints2=1\n",
    "npoints=4\n",
    "sigma = 0.30\n",
    "sigma1= 0.10\n",
    "sigma2=0.10\n",
    "x = np.linspace(0,10,npoints)\n",
    "x =[14,18,22,26]\n",
    "y=[2.26,3.24,3.33,3.92]\n",
    "x1=10\n",
    "y1=2.02\n",
    "x2=30\n",
    "y2=4.03\n"
   ]
  },
  {
   "cell_type": "code",
   "execution_count": 30,
   "metadata": {},
   "outputs": [
    {
     "data": {
      "text/plain": [
       "Text(0,0.5,'y')"
      ]
     },
     "execution_count": 30,
     "metadata": {},
     "output_type": "execute_result"
    },
    {
     "data": {
      "image/png": "[encoded data removed]",
      "text/plain": [
       "<Figure size 504x504 with 1 Axes>"
      ]
     },
     "metadata": {
      "needs_background": "light"
     },
     "output_type": "display_data"
    }
   ],
   "source": [
    "f = plt.figure(figsize=(7,7))\n",
    "plt.errorbar(x,y,sigma,fmt='o')\n",
    "plt.errorbar(x1,y1,sigma1,fmt='o')\n",
    "plt.errorbar(x2,y2,sigma2,fmt='o')\n",
    "plt.xlabel('x')\n",
    "plt.ylabel('y')"
   ]
  },
  {
   "cell_type": "code",
   "execution_count": null,
   "metadata": {},
   "outputs": [],
   "source": []
  },
  {
   "cell_type": "code",
   "execution_count": 38,
   "metadata": {},
   "outputs": [
    {
     "data": {
      "image/png": "[encoded data removed]",
      "text/plain": [
       "<Figure size 504x504 with 1 Axes>"
      ]
     },
     "metadata": {
      "needs_background": "light"
     },
     "output_type": "display_data"
    },
    {
     "name": "stdout",
     "output_type": "stream",
     "text": [
      "0.9733333333333332 0.10800000000000001\n"
     ]
    }
   ],
   "source": [
    "sigma=0.30\n",
    "sigma1=0.10\n",
    "x2=10\n",
    "y2=2.02\n",
    "x3=30\n",
    "y3=4.03\n",
    "x = np.array([10,14,18,22,26,30])\n",
    "y = np.array([2.02,2.26,3.24,3.33,3.92,4.03])\n",
    "gradient, intercept, r_value, p_value, std_err = stats.linregress(x,y)\n",
    "mn=np.min(x)\n",
    "mx=np.max(x)\n",
    "x1=np.linspace(mn,mx,500)\n",
    "y1=gradient*x1+intercept\n",
    "f = plt.figure(figsize=(7,7))\n",
    "plt.errorbar(x,y,sigma,fmt='o')\n",
    "plt.errorbar(x2,y2,sigma1,fmt='o')\n",
    "plt.errorbar(x3,y3,sigma1,fmt='o')\n",
    "plt.plot(x,y,'ob')\n",
    "plt.plot(x1,y1,'-r')\n",
    "plt.show()\n",
    "print(intercept,gradient)"
   ]
  },
  {
   "cell_type": "code",
   "execution_count": null,
   "metadata": {},
   "outputs": [],
   "source": []
  },
  {
   "cell_type": "code",
   "execution_count": null,
   "metadata": {},
   "outputs": [],
   "source": []
  },
  {
   "cell_type": "code",
   "execution_count": null,
   "metadata": {},
   "outputs": [],
   "source": []
  },
  {
   "cell_type": "code",
   "execution_count": null,
   "metadata": {},
   "outputs": [],
   "source": []
  }
 ],
 "metadata": {
  "kernelspec": {
   "display_name": "Python 3",
   "language": "python",
   "name": "python3"
  },
  "language_info": {
   "codemirror_mode": {
    "name": "ipython",
    "version": 3
   },
   "file_extension": ".py",
   "mimetype": "text/x-python",
   "name": "python",
   "nbconvert_exporter": "python",
   "pygments_lexer": "ipython3",
   "version": "3.7.0"
  }
 },
 "nbformat": 4,
 "nbformat_minor": 2
}
